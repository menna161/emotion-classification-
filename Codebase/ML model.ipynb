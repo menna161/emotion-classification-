{
 "cells": [
  {
   "cell_type": "code",
   "execution_count": 2,
   "metadata": {},
   "outputs": [
    {
     "name": "stdout",
     "output_type": "stream",
     "text": [
      "                                                text  label\n",
      "0      i just feel really helpless and heavy hearted      4\n",
      "1  ive enjoyed being able to slouch about relax a...      0\n",
      "2  i gave up my internship with the dmrg and am f...      4\n",
      "3                         i dont know i feel so lost      0\n",
      "4  i am a kindergarten teacher and i am thoroughl...      4\n"
     ]
    }
   ],
   "source": [
    "import pandas as pd\n",
    "\n",
    "def load_data(file_path):\n",
    "    data = pd.read_csv(file_path)\n",
    "    return data\n",
    "\n",
    "if __name__ == \"__main__\":\n",
    "    data = load_data('text.csv')\n",
    "    print(data.head())"
   ]
  },
  {
   "cell_type": "code",
   "execution_count": 6,
   "metadata": {},
   "outputs": [
    {
     "name": "stderr",
     "output_type": "stream",
     "text": [
      "[nltk_data] Downloading package stopwords to\n",
      "[nltk_data]     C:\\Users\\melawadly\\AppData\\Roaming\\nltk_data...\n",
      "[nltk_data]   Package stopwords is already up-to-date!\n",
      "[nltk_data] Downloading package wordnet to\n",
      "[nltk_data]     C:\\Users\\melawadly\\AppData\\Roaming\\nltk_data...\n",
      "[nltk_data]   Package wordnet is already up-to-date!\n"
     ]
    },
    {
     "name": "stdout",
     "output_type": "stream",
     "text": [
      "                                                text  label\n",
      "0                 feel really helpless heavy hearted      4\n",
      "1  ive enjoyed able slouch relax unwind frankly n...      0\n",
      "2            gave internship dmrg feeling distraught      4\n",
      "3                                dont know feel lost      0\n",
      "4  kindergarten teacher thoroughly weary job take...      4\n"
     ]
    }
   ],
   "source": [
    "import pandas as pd\n",
    "import re\n",
    "import nltk\n",
    "from nltk.corpus import stopwords\n",
    "from nltk.stem import WordNetLemmatizer\n",
    "\n",
    "nltk.download('stopwords')\n",
    "nltk.download('wordnet')\n",
    "\n",
    "def preprocess_text(text):\n",
    "    text = re.sub(r'\\W', ' ', text)\n",
    "    text = re.sub(r'\\s+', ' ', text)\n",
    "    text = text.lower()\n",
    "    text = text.strip()\n",
    "    return text\n",
    "\n",
    "def remove_stopwords(text):\n",
    "    stop_words = set(stopwords.words('english'))\n",
    "    words = text.split()\n",
    "    filtered_words = [word for word in words if word not in stop_words]\n",
    "    return ' '.join(filtered_words)\n",
    "\n",
    "def lemmatize_text(text):\n",
    "    lemmatizer = WordNetLemmatizer()\n",
    "    words = text.split()\n",
    "    lemmatized_words = [lemmatizer.lemmatize(word) for word in words]\n",
    "    return ' '.join(lemmatized_words)\n",
    "\n",
    "def preprocess_data(data):\n",
    "    data['text'] = data['text'].apply(preprocess_text)\n",
    "    data['text'] = data['text'].apply(remove_stopwords)\n",
    "    data['text'] = data['text'].apply(lemmatize_text)\n",
    "    return data\n",
    "\n",
    "if __name__ == \"__main__\":\n",
    "    data = pd.read_csv('text.csv')\n",
    "    data = preprocess_data(data)\n",
    "    print(data.head())"
   ]
  },
  {
   "cell_type": "code",
   "execution_count": 8,
   "metadata": {},
   "outputs": [
    {
     "name": "stdout",
     "output_type": "stream",
     "text": [
      "(416809, 5000) (416809,)\n"
     ]
    }
   ],
   "source": [
    "from sklearn.feature_extraction.text import TfidfVectorizer\n",
    "\n",
    "def extract_features(data):\n",
    "    vectorizer = TfidfVectorizer(max_features=5000)\n",
    "    X = vectorizer.fit_transform(data['text']).toarray()\n",
    "    y = data['label']\n",
    "    return X, y\n",
    "\n",
    "if __name__ == \"__main__\":\n",
    "    data = pd.read_csv('text.csv')\n",
    "    data = preprocess_data(data)\n",
    "    X, y = extract_features(data)\n",
    "    print(X.shape, y.shape)"
   ]
  },
  {
   "cell_type": "code",
   "execution_count": 10,
   "metadata": {},
   "outputs": [
    {
     "name": "stdout",
     "output_type": "stream",
     "text": [
      "              precision    recall  f1-score   support\n",
      "\n",
      "           0       0.94      0.94      0.94     24201\n",
      "           1       0.92      0.93      0.92     28164\n",
      "           2       0.81      0.77      0.79      6929\n",
      "           3       0.91      0.90      0.91     11441\n",
      "           4       0.85      0.85      0.85      9594\n",
      "           5       0.77      0.71      0.74      3033\n",
      "\n",
      "    accuracy                           0.90     83362\n",
      "   macro avg       0.86      0.85      0.86     83362\n",
      "weighted avg       0.90      0.90      0.90     83362\n",
      "\n"
     ]
    }
   ],
   "source": [
    "from sklearn.model_selection import train_test_split\n",
    "from sklearn.linear_model import LogisticRegression\n",
    "from sklearn.metrics import classification_report\n",
    "\n",
    "def train_model(X, y):\n",
    "    X_train, X_val, y_train, y_val = train_test_split(X, y, test_size=0.2, random_state=42)\n",
    "    model = LogisticRegression(max_iter=1000)\n",
    "    model.fit(X_train, y_train)\n",
    "    y_pred = model.predict(X_val)\n",
    "    print(classification_report(y_val, y_pred))\n",
    "    return model\n",
    "\n",
    "if __name__ == \"__main__\":\n",
    "    data = pd.read_csv('text.csv')\n",
    "    data = preprocess_data(data)\n",
    "    X, y = extract_features(data)\n",
    "    model = train_model(X, y)"
   ]
  },
  {
   "cell_type": "code",
   "execution_count": 13,
   "metadata": {},
   "outputs": [
    {
     "name": "stdout",
     "output_type": "stream",
     "text": [
      "              precision    recall  f1-score   support\n",
      "\n",
      "           0       0.94      0.94      0.94     19479\n",
      "           1       0.91      0.94      0.93     22541\n",
      "           2       0.82      0.76      0.79      5545\n",
      "           3       0.91      0.90      0.91      9277\n",
      "           4       0.85      0.86      0.85      7469\n",
      "           5       0.78      0.71      0.74      2379\n",
      "\n",
      "    accuracy                           0.90     66690\n",
      "   macro avg       0.87      0.85      0.86     66690\n",
      "weighted avg       0.90      0.90      0.90     66690\n",
      "\n",
      "Accuracy: 0.900314291883592\n",
      "Precision: 0.8992754466121919\n",
      "Recall: 0.900314291883592\n",
      "F1 Score: 0.8996194656527338\n"
     ]
    },
    {
     "data": {
      "image/png": "[encoded data removed]",
      "text/plain": [
       "<Figure size 1000x700 with 2 Axes>"
      ]
     },
     "metadata": {},
     "output_type": "display_data"
    }
   ],
   "source": [
    "from sklearn.metrics import accuracy_score, precision_score, recall_score, f1_score, confusion_matrix\n",
    "import matplotlib.pyplot as plt\n",
    "import seaborn as sns\n",
    "\n",
    "def evaluate_model(model, X_val, y_val):\n",
    "    y_pred = model.predict(X_val)\n",
    "    accuracy = accuracy_score(y_val, y_pred)\n",
    "    precision = precision_score(y_val, y_pred, average='weighted')\n",
    "    recall = recall_score(y_val, y_pred, average='weighted')\n",
    "    f1 = f1_score(y_val, y_pred, average='weighted')\n",
    "    cm = confusion_matrix(y_val, y_pred)\n",
    "    \n",
    "    print(f'Accuracy: {accuracy}')\n",
    "    print(f'Precision: {precision}')\n",
    "    print(f'Recall: {recall}')\n",
    "    print(f'F1 Score: {f1}')\n",
    "    \n",
    "    plt.figure(figsize=(10, 7))\n",
    "    sns.heatmap(cm, annot=True, fmt='d', cmap='Blues', xticklabels=['sadness', 'joy', 'love', 'anger', 'fear', 'surprise'], yticklabels=['sadness', 'joy', 'love', 'anger', 'fear', 'surprise'])\n",
    "    plt.xlabel('Predicted')\n",
    "    plt.ylabel('True')\n",
    "    plt.show()\n",
    "\n",
    "if __name__ == \"__main__\":\n",
    "    data = pd.read_csv('text.csv')\n",
    "    data = preprocess_data(data)\n",
    "    X, y = extract_features(data)\n",
    "    X_train, X_val, y_train, y_val = train_test_split(X, y, test_size=0.2, random_state=42)\n",
    "    model = train_model(X_train, y_train)\n",
    "    evaluate_model(model, X_val, y_val)"
   ]
  },
  {
   "cell_type": "code",
   "execution_count": 15,
   "metadata": {},
   "outputs": [
    {
     "name": "stdout",
     "output_type": "stream",
     "text": [
      "              precision    recall  f1-score   support\n",
      "\n",
      "           0       0.94      0.94      0.94     19479\n",
      "           1       0.91      0.94      0.93     22541\n",
      "           2       0.82      0.76      0.79      5545\n",
      "           3       0.91      0.90      0.91      9277\n",
      "           4       0.85      0.86      0.85      7469\n",
      "           5       0.78      0.71      0.74      2379\n",
      "\n",
      "    accuracy                           0.90     66690\n",
      "   macro avg       0.87      0.85      0.86     66690\n",
      "weighted avg       0.90      0.90      0.90     66690\n",
      "\n",
      "              precision    recall  f1-score   support\n",
      "\n",
      "           0       0.94      0.94      0.94     24201\n",
      "           1       0.91      0.93      0.92     28164\n",
      "           2       0.81      0.77      0.79      6929\n",
      "           3       0.91      0.90      0.91     11441\n",
      "           4       0.85      0.85      0.85      9594\n",
      "           5       0.79      0.70      0.74      3033\n",
      "\n",
      "    accuracy                           0.90     83362\n",
      "   macro avg       0.87      0.85      0.86     83362\n",
      "weighted avg       0.90      0.90      0.90     83362\n",
      "\n"
     ]
    }
   ],
   "source": [
    "def test_model(model, X_test, y_test):\n",
    "    y_pred = model.predict(X_test)\n",
    "    print(classification_report(y_test, y_pred))\n",
    "\n",
    "if __name__ == \"__main__\":\n",
    "    data = pd.read_csv('text.csv')\n",
    "    data = preprocess_data(data)\n",
    "    X, y = extract_features(data)\n",
    "    X_train, X_test, y_train, y_test = train_test_split(X, y, test_size=0.2, random_state=42)\n",
    "    model = train_model(X_train, y_train)\n",
    "    test_model(model, X_test, y_test)"
   ]
  },
  {
   "cell_type": "code",
   "execution_count": 18,
   "metadata": {},
   "outputs": [
    {
     "name": "stdout",
     "output_type": "stream",
     "text": [
      "              precision    recall  f1-score   support\n",
      "\n",
      "           0       0.94      0.94      0.94     19479\n",
      "           1       0.91      0.94      0.93     22541\n",
      "           2       0.82      0.76      0.79      5545\n",
      "           3       0.91      0.90      0.91      9277\n",
      "           4       0.85      0.86      0.85      7469\n",
      "           5       0.78      0.71      0.74      2379\n",
      "\n",
      "    accuracy                           0.90     66690\n",
      "   macro avg       0.87      0.85      0.86     66690\n",
      "weighted avg       0.90      0.90      0.90     66690\n",
      "\n",
      "              precision    recall  f1-score   support\n",
      "\n",
      "           0       0.94      0.94      0.94     24201\n",
      "           1       0.91      0.93      0.92     28164\n",
      "           2       0.81      0.77      0.79      6929\n",
      "           3       0.91      0.90      0.91     11441\n",
      "           4       0.85      0.85      0.85      9594\n",
      "           5       0.79      0.70      0.74      3033\n",
      "\n",
      "    accuracy                           0.90     83362\n",
      "   macro avg       0.87      0.85      0.86     83362\n",
      "weighted avg       0.90      0.90      0.90     83362\n",
      "\n"
     ]
    }
   ],
   "source": [
    "import joblib\n",
    "\n",
    "def save_model(model, file_path):\n",
    "    joblib.dump(model, file_path)\n",
    "\n",
    "def load_model(file_path):\n",
    "    return joblib.load(file_path)\n",
    "\n",
    "if __name__ == \"__main__\":\n",
    "    data = pd.read_csv('text.csv')\n",
    "    data = preprocess_data(data)\n",
    "    X, y = extract_features(data)\n",
    "    X_train, X_test, y_train, y_test = train_test_split(X, y, test_size=0.2, random_state=42)\n",
    "    model = train_model(X_train, y_train)\n",
    "    save_model(model, 'emotion_classifier.pkl')\n",
    "    loaded_model = load_model('emotion_classifier.pkl')\n",
    "    test_model(loaded_model, X_test, y_test)"
   ]
  }
 ],
 "metadata": {
  "kernelspec": {
   "display_name": "Python 3",
   "language": "python",
   "name": "python3"
  },
  "language_info": {
   "codemirror_mode": {
    "name": "ipython",
    "version": 3
   },
   "file_extension": ".py",
   "mimetype": "text/x-python",
   "name": "python",
   "nbconvert_exporter": "python",
   "pygments_lexer": "ipython3",
   "version": "3.12.0"
  }
 },
 "nbformat": 4,
 "nbformat_minor": 2
}
